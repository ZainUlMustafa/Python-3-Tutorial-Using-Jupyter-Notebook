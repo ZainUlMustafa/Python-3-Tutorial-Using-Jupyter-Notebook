{
 "cells": [
  {
   "cell_type": "markdown",
   "id": "74f6dd6d-ad6b-45c3-834c-b8febacf1601",
   "metadata": {},
   "source": [
    "# Tracking an object\n",
    "This is a follow up of previous two tutorials. If you haven't studied them before, it is recommended to study them first"
   ]
  },
  {
   "cell_type": "markdown",
   "id": "0022accd-8532-40c7-ad7a-791711c29a62",
   "metadata": {},
   "source": [
    "## In this lesson, we will learn:\n",
    "* to calculate euclidean distance\n",
    "* drawing on image and video\n",
    "* simple trignometry (sine and cosine law)"
   ]
  },
  {
   "cell_type": "code",
   "execution_count": null,
   "id": "2717c6bd-ea6f-465a-972a-fe7efb5c3879",
   "metadata": {},
   "outputs": [],
   "source": []
  }
 ],
 "metadata": {
  "kernelspec": {
   "display_name": "Python 3 (ipykernel)",
   "language": "python",
   "name": "python3"
  },
  "language_info": {
   "codemirror_mode": {
    "name": "ipython",
    "version": 3
   },
   "file_extension": ".py",
   "mimetype": "text/x-python",
   "name": "python",
   "nbconvert_exporter": "python",
   "pygments_lexer": "ipython3",
   "version": "3.8.10"
  }
 },
 "nbformat": 4,
 "nbformat_minor": 5
}
