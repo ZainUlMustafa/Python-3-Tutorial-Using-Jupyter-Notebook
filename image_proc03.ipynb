{
 "cells": [
  {
   "cell_type": "markdown",
   "id": "74f6dd6d-ad6b-45c3-834c-b8febacf1601",
   "metadata": {},
   "source": [
    "# Tracking an object\n",
    "This is a follow up of previous two tutorials. If you haven't studied them before, it is recommended to study them first"
   ]
  },
  {
   "cell_type": "markdown",
   "id": "0022accd-8532-40c7-ad7a-791711c29a62",
   "metadata": {},
   "source": [
    "## In this lesson, we will learn:\n",
    "* to calculate euclidean distance\n",
    "* drawing on image and video\n",
    "* simple trignometry (sine and cosine law)"
   ]
  },
  {
   "cell_type": "code",
   "execution_count": 1,
   "id": "2717c6bd-ea6f-465a-972a-fe7efb5c3879",
   "metadata": {},
   "outputs": [],
   "source": [
    "import numpy as np\n",
    "import cv2\n",
    "import matplotlib.pyplot as plt\n",
    "import math\n",
    "from numpy import *"
   ]
  },
  {
   "cell_type": "markdown",
   "id": "5f873ca4-18eb-44ea-80e8-162299506c18",
   "metadata": {},
   "source": [
    "## Draw a line between center of a picture and center of the target\n",
    "As we know how to calculate the centroid points of a contour using its moment, and we also have a clear understanding of how\n",
    "to draw on an image - we can draw a line between the COT and COI, calculate the euclidean distance between them. This\n",
    "comes in handy when you are trying to estimate the GPS location of a target in an image. By knowing the distance and angle\n",
    "between the line and the y-axis, we can easily interpolate the coordinates.\n",
    "\n",
    "\n",
    "But first, let's make a function to calculate the euclidean distance between two points."
   ]
  },
  {
   "cell_type": "code",
   "execution_count": 2,
   "id": "95fa7daf-64e9-463f-8591-2eaef76e29b2",
   "metadata": {},
   "outputs": [],
   "source": [
    "def euclidean_distance(x,y):\n",
    "    eud = math.sqrt((x[0]-y[0])**2 + (x[1]-y[1])**2)\n",
    "    return eud"
   ]
  },
  {
   "cell_type": "code",
   "execution_count": 3,
   "id": "7ee58919-2766-4170-94d7-c724a926538f",
   "metadata": {},
   "outputs": [
    {
     "data": {
      "text/plain": [
       "2.8284271247461903"
      ]
     },
     "execution_count": 3,
     "metadata": {},
     "output_type": "execute_result"
    }
   ],
   "source": [
    "euclidean_distance([1,2],[3,4])"
   ]
  },
  {
   "cell_type": "markdown",
   "id": "44ce6308-7a37-4369-91a5-4ccf2486849f",
   "metadata": {},
   "source": [
    "**Or just simply use the numpy version of calculating euclidean distance**"
   ]
  },
  {
   "cell_type": "code",
   "execution_count": 4,
   "id": "98b50f7a-f251-4ead-95a4-699809bbc752",
   "metadata": {},
   "outputs": [
    {
     "data": {
      "text/plain": [
       "2.8284271247461903"
      ]
     },
     "execution_count": 4,
     "metadata": {},
     "output_type": "execute_result"
    }
   ],
   "source": [
    "np.linalg.norm(np.array([1,2]) - np.array([3,4]))"
   ]
  },
  {
   "cell_type": "markdown",
   "id": "a4abded7-37e4-4557-93d0-bfcf9691d2e7",
   "metadata": {},
   "source": [
    "### Cosine Law\n",
    "This is the law we will use to calculate the angles between two lines."
   ]
  },
  {
   "cell_type": "code",
   "execution_count": 5,
   "id": "1441a0e2-c044-4550-9f1f-1fe900bb3b0c",
   "metadata": {},
   "outputs": [],
   "source": [
    "# first_side, second_side, side_opposite_to_angle, radian_boolean\n",
    "def cosineLaw(a,b,c, radian):\n",
    "    angle = math.acos(((a**2)+(b**2)-(c**2))/(2*a*b))\n",
    "    if radian==True:\n",
    "        return angle\n",
    "    elif radian==False:\n",
    "        return math.degrees(angle)"
   ]
  },
  {
   "cell_type": "code",
   "execution_count": 6,
   "id": "b228ba22-f80d-423c-b95b-5d12e1fb316c",
   "metadata": {},
   "outputs": [
    {
     "data": {
      "text/plain": [
       "82.81924421854173"
      ]
     },
     "execution_count": 6,
     "metadata": {},
     "output_type": "execute_result"
    }
   ],
   "source": [
    "cosineLaw(4,5,6,radian=False)"
   ]
  },
  {
   "cell_type": "markdown",
   "id": "902f3994-10a5-4447-9704-a6dad78831fc",
   "metadata": {},
   "source": [
    "### Calculate the COI and COT on images\n",
    "After calculations, we will draw some lines, mark some points, and calculate euclidean distance between points using function we made earlier."
   ]
  },
  {
   "cell_type": "code",
   "execution_count": 7,
   "id": "8883e4db-acc0-4d5c-85db-e864757f4b5d",
   "metadata": {},
   "outputs": [
    {
     "name": "stdout",
     "output_type": "stream",
     "text": [
      "319 238\n"
     ]
    },
    {
     "data": {
      "text/plain": [
       "113"
      ]
     },
     "execution_count": 7,
     "metadata": {},
     "output_type": "execute_result"
    }
   ],
   "source": [
    "im = cv2.imread('samples/obt.png')\n",
    "#im = cv2.resize(im, (600,480))\n",
    "height,width,_ = im.shape\n",
    "im_cx,im_cy = int(width/2),int(height/2)\n",
    "print(im_cx,im_cy)\n",
    "# Contour Finding\n",
    "hsv = cv2.cvtColor(im, cv2.COLOR_BGR2HSV)\n",
    "upper = np.array([104,114,112])\n",
    "lower = np.array([255,255,255])\n",
    "\n",
    "mask = cv2.inRange(hsv, upper, lower)\n",
    "res = cv2.bitwise_and(im, im, mask=mask)\n",
    "res = cv2.GaussianBlur(res, (1,1), 0)\n",
    "res_gray = cv2.cvtColor(res, cv2.COLOR_BGR2GRAY)\n",
    "_, threshold = cv2.threshold(res_gray, 0, 255, cv2.THRESH_BINARY+cv2.THRESH_OTSU)\n",
    "contours, _ = cv2.findContours(threshold, cv2.RETR_EXTERNAL, cv2.CHAIN_APPROX_NONE)\n",
    "min_area = 30**2\n",
    "for contour in contours:\n",
    "    area = cv2.contourArea(contour)\n",
    "    if area>min_area:\n",
    "        # calculating the centroid\n",
    "        moment = cv2.moments(contour)\n",
    "        cx = int(moment['m10']/moment['m00'])\n",
    "        cy = int(moment['m01']/moment['m00'])\n",
    "\n",
    "        # make a rectangle bounding the contour\n",
    "        [x, y, w, h] = cv2.boundingRect(contour)\n",
    "\n",
    "        # draw a rectangle surrounding the contour image\n",
    "        cv2.rectangle(im, (x, y), (w+x, h+y), (0,255,0), 2)\n",
    "\n",
    "        # put the centroid text\n",
    "        #cv2.circle(im,(cx,cy), 5, (255,0,255), -1)\n",
    "        #cv2.putText(im, str(cx)+','+str(cy), (cx,cy), 2, 1, (0,0,0), 1, 0)\n",
    "    #endif\n",
    "#endfor\n",
    "# Calculating Euclidean Distances\n",
    "pi2pt = round(euclidean_distance([im_cx,im_cy],[cx,cy]),2)\n",
    "pi2py = round(euclidean_distance([im_cx,im_cy],[0,im_cy]),2)\n",
    "pt2py = round(euclidean_distance([cx,cy],[0,im_cy]),2)\n",
    "# Calculating the angles\n",
    "a_pi = round(cosineLaw(pi2pt,pi2py,pt2py,radian=False),1)\n",
    "a_pt = round(cosineLaw(pi2pt,pt2py,pi2py,radian=False),1)\n",
    "a_py = round(cosineLaw(pt2py,pi2py,pi2pt,radian=False),1)\n",
    "# Marking the center of COI\n",
    "cv2.circle(im,(im_cx,im_cy), 5, (255,0,255), -1)\n",
    "cv2.putText(im, str(im_cx)+','+str(im_cy)+', ang: '+str(a_pi), (im_cx,im_cy), 2, 1, (0,255,255), 1, 0)\n",
    "# Marking the center of COT\n",
    "cv2.circle(im,(cx,cy), 5, (255,0,255), -1)\n",
    "cv2.putText(im, str(cx)+','+str(cy)+', ang: '+str(a_pt), (cx,cy), 2, 1, (0,255,255), 1, 0)\n",
    "# Marking the center of y-axis\n",
    "cv2.circle(im,(0,im_cy), 5, (255,0,255), -1)\n",
    "cv2.putText(im, str(0)+','+str(im_cy)+', ang: '+str(a_py), (0,im_cy), 2, 1, (0,255,255), 1, 0)\n",
    "# line from COI to COT\n",
    "cv2.line(im, (im_cx,im_cy), (cx,cy), (0,0,255), 2)\n",
    "# Line from COI to y-axis\n",
    "cv2.line(im, (im_cx,im_cy), (0,im_cy), (0,0,255), 2)\n",
    "# Line from COT to y-axis\n",
    "cv2.line(im, (cx,cy), (0,im_cy), (0,0,255), 2)\n",
    "# Putting the pi2pt in the midpoint of the COI and COT\n",
    "cv2.putText(im, str(pi2pt), (int((im_cx+cx)/2),int((im_cy+cy)/2)), 2, 1, (0,0,255), 1, 0)\n",
    "# Putting the pi2py in the midpoint of the COI and y-axis\n",
    "cv2.putText(im, str(pi2py), (int((im_cx+0)/2),int((im_cy+im_cy)/2)), 2, 1, (0,0,255), 1, 0)\n",
    "# Putting the pt2py in the midpoint of the COT and y-axis\n",
    "cv2.putText(im, str(pt2py), (int((cx+0)/2),int((cy+im_cy)/2)), 2, 1, (0,0,255), 1, 0)\n",
    "cv2.imshow('im', im)\n",
    "#cv2.imwrite('data/dist.png', im)\n",
    "cv2.waitKey(0)"
   ]
  },
  {
   "cell_type": "code",
   "execution_count": 8,
   "id": "ccb6f227-8abb-4975-99dc-1da2ba06e729",
   "metadata": {},
   "outputs": [],
   "source": [
    "cap = cv2.VideoCapture(0)\n",
    "# cap.set(cv2.CAP_PROP_FRAME_WIDTH, 2000)\n",
    "# cap.set(cv2.CAP_PROP_FRAME_HEIGHT, 2000)\n",
    "min_area = 50**2\n",
    "while(cap.isOpened):\n",
    "    _,frame = cap.read()\n",
    "    height,width,_ = frame.shape\n",
    "    im_cx,im_cy = int(width/2),int(height/2)\n",
    "\n",
    "    hsv = cv2.cvtColor(frame, cv2.COLOR_BGR2HSV)\n",
    "\n",
    "    upper = np.array([104,114,112])\n",
    "    lower = np.array([255,255,255])\n",
    "\n",
    "    mask = cv2.inRange(hsv, upper, lower)\n",
    "    res = cv2.bitwise_and(frame, frame, mask=mask)\n",
    "    res = cv2.GaussianBlur(res, (1,1), 0)\n",
    "\n",
    "    # detection of contours\n",
    "    res_gray = cv2.cvtColor(res, cv2.COLOR_BGR2GRAY)\n",
    "    _, threshold = cv2.threshold(res_gray, 0, 255, cv2.THRESH_BINARY+cv2.THRESH_OTSU)\n",
    "    contours, _ = cv2.findContours(threshold, cv2.RETR_EXTERNAL, cv2.CHAIN_APPROX_NONE)\n",
    "\n",
    "    for contour in contours:\n",
    "        area = cv2.contourArea(contour)\n",
    "        if area>min_area:\n",
    "            # calculating the centroid\n",
    "            moment = cv2.moments(contour)\n",
    "            cx = int(moment['m10']/moment['m00'])\n",
    "            cy = int(moment['m01']/moment['m00'])\n",
    "\n",
    "            # make a rectangle bounding the contour\n",
    "            [x, y, w, h] = cv2.boundingRect(contour)\n",
    "\n",
    "            # draw a rectangle surrounding the contour image\n",
    "            cv2.rectangle(frame, (x, y), (w+x, h+y), (0,255,0), 2)\n",
    "\n",
    "            # put the centroid text\n",
    "            cv2.putText(frame, str(cx)+','+str(cy), (cx,cy), 2, 1, (255,255,255), 2, 0)\n",
    "\n",
    "            # Calculating Euclidean Distances\n",
    "            pi2pt = round(euclidean_distance([im_cx,im_cy],[cx,cy]),2)\n",
    "            pi2py = round(euclidean_distance([im_cx,im_cy],[0,im_cy]),2)\n",
    "            pt2py = round(euclidean_distance([cx,cy],[0,im_cy]),2)\n",
    "\n",
    "            # Calculating the angles\n",
    "            a_pi = round(cosineLaw(pi2pt,pi2py,pt2py,radian=False),1)\n",
    "            a_pt = round(cosineLaw(pi2pt,pt2py,pi2py,radian=False),1)\n",
    "            a_py = round(cosineLaw(pt2py,pi2py,pi2pt,radian=False),1)\n",
    "\n",
    "            # Marking the center of COI\n",
    "            cv2.circle(frame,(im_cx,im_cy), 5, (255,0,255), -1)\n",
    "            cv2.putText(frame, str(im_cx)+','+str(im_cy)+', ang: '+str(a_pi), (im_cx,im_cy), 2, 1, (0,255,255), 1, 0)\n",
    "            # Marking the center of COT\n",
    "            cv2.circle(frame,(cx,cy), 5, (255,0,255), -1)\n",
    "            cv2.putText(frame, str(cx)+','+str(cy)+', ang: '+str(a_pt), (cx,cy), 2, 1, (0,255,255), 1, 0)\n",
    "            # Marking the center of y-axis\n",
    "            cv2.circle(frame,(0,im_cy), 5, (255,0,255), -1)\n",
    "            cv2.putText(frame, str(0)+','+str(im_cy)+', ang: '+str(a_py), (0,im_cy), 2, 1,(0,255,255), 1, 0)\n",
    "            # line from COI to COT\n",
    "            cv2.line(frame, (im_cx,im_cy), (cx,cy), (0,0,255), 2)\n",
    "            # Line from COI to y-axis\n",
    "            cv2.line(frame, (im_cx,im_cy), (0,im_cy), (0,0,255), 2)\n",
    "            # Line from COT to y-axis\n",
    "            cv2.line(frame, (cx,cy), (0,im_cy), (0,0,255), 2)\n",
    "\n",
    "            # Putting the pi2pt in the midpoint of the COI and COT\n",
    "            cv2.putText(frame, str(pi2pt), (int((im_cx+cx)/2),int((im_cy+cy)/2)), 2, 1, (0,0,255), 1, 0)\n",
    "            # Putting the pi2py in the midpoint of the COI and y-axis\n",
    "            cv2.putText(frame, str(pi2py), (int((im_cx+0)/2),int((im_cy+im_cy)/2)), 2, 1,(0,0,255), 1, 0)\n",
    "            # Putting the pt2py in the midpoint of the COT and y-axis\n",
    "            cv2.putText(frame, str(pt2py), (int((cx+0)/2),int((cy+im_cy)/2)), 2, 1, (0,0,255), 1, 0)\n",
    "        #endif\n",
    "    #endfor\n",
    "    cv2.imshow('frame', frame)\n",
    "    if cv2.waitKey(1) & 0xff == ord('q'):\n",
    "        cv2.imwrite('samples/proc3.png',frame)\n",
    "    break\n",
    "    #endif\n",
    "#endwhile\n",
    "cap.release()\n",
    "cv2.destroyAllWindows()"
   ]
  },
  {
   "cell_type": "code",
   "execution_count": null,
   "id": "a042e6fa-fd9d-4d91-8a35-f268ae408abb",
   "metadata": {},
   "outputs": [],
   "source": []
  }
 ],
 "metadata": {
  "kernelspec": {
   "display_name": "Python 3 (ipykernel)",
   "language": "python",
   "name": "python3"
  },
  "language_info": {
   "codemirror_mode": {
    "name": "ipython",
    "version": 3
   },
   "file_extension": ".py",
   "mimetype": "text/x-python",
   "name": "python",
   "nbconvert_exporter": "python",
   "pygments_lexer": "ipython3",
   "version": "3.8.10"
  }
 },
 "nbformat": 4,
 "nbformat_minor": 5
}
